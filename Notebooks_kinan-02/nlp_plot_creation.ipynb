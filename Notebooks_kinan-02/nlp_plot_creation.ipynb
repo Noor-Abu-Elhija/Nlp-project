{
  "cells": [
    {
      "cell_type": "code",
      "source": [
        "%pip install wandb"
      ],
      "metadata": {
        "id": "1mA_y3FDafoa",
        "colab": {
          "base_uri": "https://localhost:8080/"
        },
        "outputId": "51a09865-39d8-4ba8-eab5-d79d4d4db5e4"
      },
      "id": "1mA_y3FDafoa",
      "execution_count": null,
      "outputs": [
        {
          "output_type": "stream",
          "name": "stdout",
          "text": [
            "Collecting wandb\n",
            "  Downloading wandb-0.17.1-py3-none-manylinux_2_5_x86_64.manylinux1_x86_64.manylinux_2_17_x86_64.manylinux2014_x86_64.whl (6.8 MB)\n",
            "\u001b[2K     \u001b[90m━━━━━━━━━━━━━━━━━━━━━━━━━━━━━━━━━━━━━━━━\u001b[0m \u001b[32m6.8/6.8 MB\u001b[0m \u001b[31m35.4 MB/s\u001b[0m eta \u001b[36m0:00:00\u001b[0m\n",
            "\u001b[?25hRequirement already satisfied: click!=8.0.0,>=7.1 in /usr/local/lib/python3.10/dist-packages (from wandb) (8.1.7)\n",
            "Collecting docker-pycreds>=0.4.0 (from wandb)\n",
            "  Downloading docker_pycreds-0.4.0-py2.py3-none-any.whl (9.0 kB)\n",
            "Collecting gitpython!=3.1.29,>=1.0.0 (from wandb)\n",
            "  Downloading GitPython-3.1.43-py3-none-any.whl (207 kB)\n",
            "\u001b[2K     \u001b[90m━━━━━━━━━━━━━━━━━━━━━━━━━━━━━━━━━━━━━━━━\u001b[0m \u001b[32m207.3/207.3 kB\u001b[0m \u001b[31m15.5 MB/s\u001b[0m eta \u001b[36m0:00:00\u001b[0m\n",
            "\u001b[?25hRequirement already satisfied: platformdirs in /usr/local/lib/python3.10/dist-packages (from wandb) (4.2.2)\n",
            "Requirement already satisfied: protobuf!=4.21.0,<6,>=3.19.0 in /usr/local/lib/python3.10/dist-packages (from wandb) (3.20.3)\n",
            "Requirement already satisfied: psutil>=5.0.0 in /usr/local/lib/python3.10/dist-packages (from wandb) (5.9.5)\n",
            "Requirement already satisfied: pyyaml in /usr/local/lib/python3.10/dist-packages (from wandb) (6.0.1)\n",
            "Requirement already satisfied: requests<3,>=2.0.0 in /usr/local/lib/python3.10/dist-packages (from wandb) (2.31.0)\n",
            "Collecting sentry-sdk>=1.0.0 (from wandb)\n",
            "  Downloading sentry_sdk-2.5.0-py2.py3-none-any.whl (289 kB)\n",
            "\u001b[2K     \u001b[90m━━━━━━━━━━━━━━━━━━━━━━━━━━━━━━━━━━━━━━━━\u001b[0m \u001b[32m289.5/289.5 kB\u001b[0m \u001b[31m20.7 MB/s\u001b[0m eta \u001b[36m0:00:00\u001b[0m\n",
            "\u001b[?25hCollecting setproctitle (from wandb)\n",
            "  Downloading setproctitle-1.3.3-cp310-cp310-manylinux_2_5_x86_64.manylinux1_x86_64.manylinux_2_17_x86_64.manylinux2014_x86_64.whl (30 kB)\n",
            "Requirement already satisfied: setuptools in /usr/local/lib/python3.10/dist-packages (from wandb) (67.7.2)\n",
            "Requirement already satisfied: six>=1.4.0 in /usr/local/lib/python3.10/dist-packages (from docker-pycreds>=0.4.0->wandb) (1.16.0)\n",
            "Collecting gitdb<5,>=4.0.1 (from gitpython!=3.1.29,>=1.0.0->wandb)\n",
            "  Downloading gitdb-4.0.11-py3-none-any.whl (62 kB)\n",
            "\u001b[2K     \u001b[90m━━━━━━━━━━━━━━━━━━━━━━━━━━━━━━━━━━━━━━━━\u001b[0m \u001b[32m62.7/62.7 kB\u001b[0m \u001b[31m5.1 MB/s\u001b[0m eta \u001b[36m0:00:00\u001b[0m\n",
            "\u001b[?25hRequirement already satisfied: charset-normalizer<4,>=2 in /usr/local/lib/python3.10/dist-packages (from requests<3,>=2.0.0->wandb) (3.3.2)\n",
            "Requirement already satisfied: idna<4,>=2.5 in /usr/local/lib/python3.10/dist-packages (from requests<3,>=2.0.0->wandb) (3.7)\n",
            "Requirement already satisfied: urllib3<3,>=1.21.1 in /usr/local/lib/python3.10/dist-packages (from requests<3,>=2.0.0->wandb) (2.0.7)\n",
            "Requirement already satisfied: certifi>=2017.4.17 in /usr/local/lib/python3.10/dist-packages (from requests<3,>=2.0.0->wandb) (2024.6.2)\n",
            "Collecting smmap<6,>=3.0.1 (from gitdb<5,>=4.0.1->gitpython!=3.1.29,>=1.0.0->wandb)\n",
            "  Downloading smmap-5.0.1-py3-none-any.whl (24 kB)\n",
            "Installing collected packages: smmap, setproctitle, sentry-sdk, docker-pycreds, gitdb, gitpython, wandb\n",
            "Successfully installed docker-pycreds-0.4.0 gitdb-4.0.11 gitpython-3.1.43 sentry-sdk-2.5.0 setproctitle-1.3.3 smmap-5.0.1 wandb-0.17.1\n"
          ]
        }
      ]
    },
    {
      "cell_type": "code",
      "source": [
        "!wget -q -O read_wandb.py https://raw.githubusercontent.com/eilamshapira/HumanChoicePrediction/master/RunningScripts/read_wandb.py"
      ],
      "metadata": {
        "id": "zxOcw9M-ZDx7"
      },
      "id": "zxOcw9M-ZDx7",
      "execution_count": null,
      "outputs": []
    },
    {
      "cell_type": "code",
      "execution_count": null,
      "id": "6d796479-916b-464c-9c7b-448306d9e7e9",
      "metadata": {
        "ExecuteTime": {
          "end_time": "2024-05-22T07:04:43.667809Z",
          "start_time": "2024-05-22T07:04:43.632256Z"
        },
        "id": "6d796479-916b-464c-9c7b-448306d9e7e9"
      },
      "outputs": [],
      "source": [
        "import pandas as pd\n",
        "import wandb\n",
        "from tqdm import tqdm\n",
        "import requests\n",
        "import os\n",
        "import numpy as np\n",
        "import matplotlib.pyplot as plt\n",
        "import sklearn\n",
        "from sklearn import metrics\n",
        "import scipy.stats as stats\n",
        "import matplotlib.colors as mcolors\n",
        "from read_wandb import wandb_results"
      ]
    },
    {
      "cell_type": "code",
      "execution_count": null,
      "id": "a9b533fe-a6ba-45c9-8bac-5da5e1414208",
      "metadata": {
        "ExecuteTime": {
          "end_time": "2024-05-22T07:04:44.523238Z",
          "start_time": "2024-05-22T07:04:44.466860Z"
        },
        "id": "a9b533fe-a6ba-45c9-8bac-5da5e1414208"
      },
      "outputs": [],
      "source": [
        "project_name = 'Strategy_Transfer_TACL' # enter project name here\n",
        "username = 'kinan' # enter group name here\n",
        "\n",
        "# api = wandb_results(project_name, wandb_username=username)\n",
        "api = wandb.Api()\n",
        "\n",
        "BASE_METRIC = \"accuracy_per_mean_user_and_bot\"\n",
        "sweep_id = 'gxwiz3xc' #enter sweep id here"
      ]
    },
    {
      "cell_type": "code",
      "source": [
        "run_path = f\"{username}/{project_name}/{sweep_id}\"\n",
        "\n",
        "# # Fetch the run\n",
        "run = api.run(run_path)\n",
        "df = run.history()"
      ],
      "metadata": {
        "id": "wi0JI3JSaMK_"
      },
      "id": "wi0JI3JSaMK_",
      "execution_count": null,
      "outputs": []
    },
    {
      "cell_type": "code",
      "source": [
        "sweep_id = 'uv5plu7y' #enter sweep id here\n",
        "directory = 'sweeps_csvs'\n",
        "username = 'noor25'\n",
        "api = wandb_results(project_name, wandb_username=username)\n",
        "if not os.path.exists(directory):\n",
        "    os.makedirs(directory)\n",
        "df1 = api.get_sweeps_results([sweep_id], metric=\"accuracy_per_mean_user_and_bot\")"
      ],
      "metadata": {
        "colab": {
          "base_uri": "https://localhost:8080/"
        },
        "id": "qXp_HqUqcTMb",
        "outputId": "6f5e784a-9342-4f2b-a970-aa228db9d8bd"
      },
      "id": "qXp_HqUqcTMb",
      "execution_count": null,
      "outputs": [
        {
          "output_type": "stream",
          "name": "stdout",
          "text": [
            "Total number of sweeps: 1\n",
            "Download sweep_id='uv5plu7y' data...\n"
          ]
        }
      ]
    },
    {
      "cell_type": "code",
      "source": [
        "epoch_acc = [f'ENV_Test_accuracy_per_mean_user_and_bot_epoch{i}' for i in range(25)]\n",
        "cols_to_keep = epoch_acc\n",
        "df = df[cols_to_keep]"
      ],
      "metadata": {
        "id": "MrZZ-3UDb8Tf"
      },
      "id": "MrZZ-3UDb8Tf",
      "execution_count": null,
      "outputs": []
    },
    {
      "cell_type": "code",
      "source": [
        "df = df.iloc[74]\n",
        "# df"
      ],
      "metadata": {
        "id": "clF2OujYaktj"
      },
      "id": "clF2OujYaktj",
      "execution_count": null,
      "outputs": []
    },
    {
      "cell_type": "code",
      "source": [
        "epoch_acc = [f'ENV_Test_accuracy_per_mean_user_and_bot_epoch{i}' for i in range(25)]\n",
        "cols_to_keep = epoch_acc + ['config_seed'] +[\"config_ENV_LEARNING_RATE\"]\n",
        "df1 = df1[cols_to_keep]"
      ],
      "metadata": {
        "id": "2lNyfAaLdFdD"
      },
      "id": "2lNyfAaLdFdD",
      "execution_count": null,
      "outputs": []
    },
    {
      "cell_type": "code",
      "source": [
        "df1 = df1[df1['config_seed'] == 1]\n",
        "df1 = df1[epoch_acc]"
      ],
      "metadata": {
        "id": "KORwnWtfdwBU"
      },
      "id": "KORwnWtfdwBU",
      "execution_count": 20,
      "outputs": []
    },
    {
      "cell_type": "code",
      "source": [
        "half_ratio = df1.iloc[0]\n",
        "one_ratio = df1.iloc[1]\n",
        "two_ratio = df1.iloc[2]\n",
        "four_ratio = df1.iloc[3]\n",
        "three_ratio = df1.iloc[4]\n",
        "x_axis = range(25)\n",
        "plt.plot(x_axis, half_ratio, label='0.0004', marker='^')\n",
        "plt.plot(x_axis, one_ratio, label='0.00004', marker='o')\n",
        "plt.plot(x_axis, two_ratio, label='0.00001', marker='v')\n",
        "plt.plot(x_axis, four_ratio, label='0.0001', marker='s')\n",
        "plt.plot(x_axis, three_ratio, label='0.001', marker='s')\n",
        "plt.title(f'Accuracy per Epoch (Hybrid Model)')\n",
        "plt.xlabel('Epoch')\n",
        "plt.ylabel('Accuracy')\n",
        "plt.legend()\n",
        "plt.show()"
      ],
      "metadata": {
        "id": "g2m0ZZf1wV-R"
      },
      "id": "g2m0ZZf1wV-R",
      "execution_count": null,
      "outputs": []
    },
    {
      "cell_type": "code",
      "source": [
        "df = pd.read_csv(\"rel_data.csv\")\n",
        "df1 = pd.read_csv(\"rel_data1.csv\")"
      ],
      "metadata": {
        "id": "CnhK4OKr7Y5j"
      },
      "id": "CnhK4OKr7Y5j",
      "execution_count": null,
      "outputs": []
    },
    {
      "cell_type": "code",
      "source": [
        "chosen_model = df['chosen_model']\n",
        "LogReg = df['LogReg']\n",
        "LSTM = df['LSTM']\n",
        "LSTM_Transformer = df1['LSTM-Transformer']\n",
        "Attention_LSTM = df1['Attention_LSTM']\n",
        "Attention = df1['Attention']\n",
        "Attention_Transformer = df1['Attention_Transformer']\n",
        "Transformer = df1['Transformer']\n",
        "x_axis = range(25)\n",
        "plt.plot(x_axis, chosen_model, label='Chosen Model', marker='^', linewidth=0.5)\n",
        "plt.plot(x_axis, LogReg, label='LogReg', marker='o', linewidth=0.5)\n",
        "plt.plot(x_axis, LSTM, label=\"Shapira's LSTM\", marker='v', linewidth=0.5)\n",
        "plt.plot(x_axis, LSTM_Transformer, label='LSTM_Transformer', marker='s', linewidth=0.5)\n",
        "plt.plot(x_axis, Attention_LSTM, label='Attention_LSTM', marker='+', linewidth=0.5)\n",
        "plt.plot(x_axis, Attention, label='Attention', marker='*', linewidth=0.5)\n",
        "plt.plot(x_axis, Attention_Transformer, label='Attention_Transformer', marker='s', linewidth=0.5)\n",
        "plt.plot(x_axis, Transformer, label='Transformer', marker='x', linewidth=0.5)\n",
        "plt.title(f'Accuracy per epoch')\n",
        "plt.xlabel('Epoch')\n",
        "plt.ylabel('Accuracy')\n",
        "plt.legend()\n",
        "plt.show()"
      ],
      "metadata": {
        "id": "Akc03P12e1P8"
      },
      "id": "Akc03P12e1P8",
      "execution_count": null,
      "outputs": []
    }
  ],
  "metadata": {
    "kernelspec": {
      "display_name": "Python 3",
      "language": "python",
      "name": "python3"
    },
    "language_info": {
      "codemirror_mode": {
        "name": "ipython",
        "version": 3
      },
      "file_extension": ".py",
      "mimetype": "text/x-python",
      "name": "python",
      "nbconvert_exporter": "python",
      "pygments_lexer": "ipython3",
      "version": "3.8.8"
    },
    "colab": {
      "provenance": []
    }
  },
  "nbformat": 4,
  "nbformat_minor": 5
}